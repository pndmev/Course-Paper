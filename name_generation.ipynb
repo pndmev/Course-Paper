{
 "cells": [
  {
   "cell_type": "markdown",
   "metadata": {},
   "source": [
    "Генерация имен. LSTM"
   ]
  },
  {
   "cell_type": "code",
   "execution_count": 4,
   "metadata": {},
   "outputs": [],
   "source": [
    "import numpy as np\n",
    "import matplotlib.pyplot as plt"
   ]
  },
  {
   "cell_type": "code",
   "execution_count": 5,
   "metadata": {},
   "outputs": [],
   "source": [
    "import os\n",
    "bos = \" \"\n",
    "\n",
    "with open(\"names.txt\") as file:\n",
    "    names = file.read().split('\\n')\n",
    "    names = [bos + name for name in names]\n",
    "    names = names[1:]"
   ]
  },
  {
   "cell_type": "code",
   "execution_count": 6,
   "metadata": {},
   "outputs": [
    {
     "name": "stdout",
     "output_type": "stream",
     "text": [
      "19868\n"
     ]
    }
   ],
   "source": [
    "print(len(names))"
   ]
  },
  {
   "cell_type": "code",
   "execution_count": 7,
   "metadata": {},
   "outputs": [
    {
     "name": "stdout",
     "output_type": "stream",
     "text": [
      "16\n"
     ]
    },
    {
     "data": {
      "text/plain": [
       "(array([6.800e+01, 0.000e+00, 3.990e+02, 0.000e+00, 1.844e+03, 0.000e+00,\n",
       "        4.143e+03, 0.000e+00, 0.000e+00, 5.014e+03, 0.000e+00, 4.083e+03,\n",
       "        0.000e+00, 2.476e+03, 0.000e+00, 0.000e+00, 1.178e+03, 0.000e+00,\n",
       "        4.830e+02, 0.000e+00, 1.300e+02, 0.000e+00, 0.000e+00, 4.100e+01,\n",
       "        0.000e+00, 7.000e+00, 0.000e+00, 1.000e+00, 0.000e+00, 1.000e+00]),\n",
       " array([ 3.        ,  3.43333333,  3.86666667,  4.3       ,  4.73333333,\n",
       "         5.16666667,  5.6       ,  6.03333333,  6.46666667,  6.9       ,\n",
       "         7.33333333,  7.76666667,  8.2       ,  8.63333333,  9.06666667,\n",
       "         9.5       ,  9.93333333, 10.36666667, 10.8       , 11.23333333,\n",
       "        11.66666667, 12.1       , 12.53333333, 12.96666667, 13.4       ,\n",
       "        13.83333333, 14.26666667, 14.7       , 15.13333333, 15.56666667,\n",
       "        16.        ]),\n",
       " <a list of 30 Patch objects>)"
      ]
     },
     "execution_count": 7,
     "metadata": {},
     "output_type": "execute_result"
    },
    {
     "data": {
      "image/png": "[encoded data removed]",
      "text/plain": [
       "<Figure size 432x288 with 1 Axes>"
      ]
     },
     "metadata": {
      "needs_background": "light"
     },
     "output_type": "display_data"
    }
   ],
   "source": [
    "MAX_LEN = max(map(len, names))\n",
    "print(MAX_LEN)\n",
    "\n",
    "plt.title('Length distribution')\n",
    "plt.hist(list(map(len, names)), bins = 30)"
   ]
  },
  {
   "cell_type": "code",
   "execution_count": 8,
   "metadata": {},
   "outputs": [
    {
     "name": "stdout",
     "output_type": "stream",
     "text": [
      "54\n",
      "['a', 'm', 'Q', ' ', 'q', 'Y', 'I', 'c', 'U', 'o', 'u', 'W', 'v', 'k', 't', 'J', 'L', 'X', 'M', 'Z', 'd', 's', 'l', 'j', 'S', 'z', \"'\", 'p', 'A', 'K', 'H', 'w', 'V', 'F', 'r', 'n', 'B', 'E', 'y', 'h', 'N', 'D', 'e', 'G', 'P', 'f', 'i', 'x', 'C', 'R', 'T', 'O', 'b', 'g']\n"
     ]
    }
   ],
   "source": [
    "symbols = set(\"\".join(names))\n",
    "symbols = list(symbols)\n",
    "\n",
    "print(len(symbols))\n",
    "print(symbols)"
   ]
  },
  {
   "cell_type": "code",
   "execution_count": 9,
   "metadata": {},
   "outputs": [
    {
     "name": "stdout",
     "output_type": "stream",
     "text": [
      "{'a': 0, 'm': 1, 'Q': 2, ' ': 3, 'q': 4, 'Y': 5, 'I': 6, 'c': 7, 'U': 8, 'o': 9, 'u': 10, 'W': 11, 'v': 12, 'k': 13, 't': 14, 'J': 15, 'L': 16, 'X': 17, 'M': 18, 'Z': 19, 'd': 20, 's': 21, 'l': 22, 'j': 23, 'S': 24, 'z': 25, \"'\": 26, 'p': 27, 'A': 28, 'K': 29, 'H': 30, 'w': 31, 'V': 32, 'F': 33, 'r': 34, 'n': 35, 'B': 36, 'E': 37, 'y': 38, 'h': 39, 'N': 40, 'D': 41, 'e': 42, 'G': 43, 'P': 44, 'f': 45, 'i': 46, 'x': 47, 'C': 48, 'R': 49, 'T': 50, 'O': 51, 'b': 52, 'g': 53}\n"
     ]
    }
   ],
   "source": [
    "sym2id = {symbol : symbols.index(symbol) for symbol in symbols}\n",
    "print(sym2id)"
   ]
  },
  {
   "cell_type": "code",
   "execution_count": 10,
   "metadata": {},
   "outputs": [],
   "source": [
    "def nam2vec(names):\n",
    "    pad = sym2id[' ']\n",
    "    names_vec = np.zeros([len(names), MAX_LEN], 'int32') + pad\n",
    "    \n",
    "    for i in range(len(names)):\n",
    "        name_vec = [sym2id[sym] for sym in names[i]]\n",
    "        names_vec[i, :len(name_vec)] = name_vec\n",
    "        \n",
    "    return names_vec"
   ]
  },
  {
   "cell_type": "code",
   "execution_count": 13,
   "metadata": {},
   "outputs": [
    {
     "data": {
      "text/plain": [
       "array([[41, 46,  1,  0,  3,  3,  3,  3,  3,  3,  3,  3,  3,  3,  3,  3],\n",
       "       [49,  9,  1,  0,  3,  3,  3,  3,  3,  3,  3,  3,  3,  3,  3,  3]])"
      ]
     },
     "execution_count": 13,
     "metadata": {},
     "output_type": "execute_result"
    }
   ],
   "source": [
    "nam2vec(['Dima', 'Roma'])"
   ]
  },
  {
   "cell_type": "code",
   "execution_count": 60,
   "metadata": {},
   "outputs": [],
   "source": [
    "import torch\n",
    "import torch.nn as nn\n",
    "import torch.nn.functional as func\n",
    "import torch.optim as optim"
   ]
  },
  {
   "cell_type": "code",
   "execution_count": 61,
   "metadata": {},
   "outputs": [],
   "source": [
    "class SymbolCreatorCell(nn.Module):\n",
    "    def __init__(self, alph_size = len(symbols), emb_dim = 16, hid_dim = 64):\n",
    "        super().__init__()\n",
    "        \n",
    "        self.hid_dim = hid_dim\n",
    "        \n",
    "        self.sym2emb = nn.Embedding(alph_size, emb_dim)\n",
    "        self.emb2hid = nn.LSTMCell(emb_dim, hid_dim)\n",
    "        self.hid2log = nn.Linear(hid_dim, alph_size)\n",
    "        \n",
    "    def forward(self, sym, prev):\n",
    "        (h_prev, c_prev) = prev\n",
    "        (h_next, c_next) = self.emb2hid(self.sym2emb(sym), (h_prev, c_prev))\n",
    "        log = self.hid2log(h_next)\n",
    "        \n",
    "        return (h_next, c_next), func.log_softmax(log, -1)\n",
    "    \n",
    "    def init_state(self, batch_size):\n",
    "        return torch.zeros(batch_size, self.hid_dim), torch.zeros(batch_size, self.hid_dim)"
   ]
  },
  {
   "cell_type": "code",
   "execution_count": 62,
   "metadata": {},
   "outputs": [],
   "source": [
    "def creation_loop(creator_cell, batch_vec):\n",
    "    batch_size, max_length = batch_vec.size()\n",
    "    state = creator_cell.init_state(batch_size)\n",
    "    logps = []\n",
    "    \n",
    "    for sym in batch_vec.transpose(0, 1):\n",
    "        state, logp = creator_cell(sym, state)\n",
    "        logps.append(logp)\n",
    "    \n",
    "    return torch.stack(logps, dim = 1)"
   ]
  },
  {
   "cell_type": "code",
   "execution_count": 75,
   "metadata": {},
   "outputs": [],
   "source": [
    "from IPython.display import clear_output\n",
    "from random import sample\n",
    "\n",
    "creator_cell = SymbolCreatorCell()\n",
    "crit = optim.Adam(creator_cell.parameters())\n",
    "history = []\n",
    "names_history = [[]]"
   ]
  },
  {
   "cell_type": "code",
   "execution_count": 76,
   "metadata": {},
   "outputs": [
    {
     "data": {
      "image/png": "[encoded data removed]",
      "text/plain": [
       "<Figure size 432x288 with 1 Axes>"
      ]
     },
     "metadata": {
      "needs_background": "light"
     },
     "output_type": "display_data"
    }
   ],
   "source": [
    "batch_size = 32\n",
    "\n",
    "for i in range(1500):\n",
    "    batch_vec = torch.LongTensor(nam2vec(sample(names, batch_size)))\n",
    "    logps = creation_loop(creator_cell, batch_vec)\n",
    "\n",
    "    loss = func.nll_loss(logps[:, :-1].contiguous().view(-1, len(symbols)), batch_vec[:, 1:].contiguous().view(-1))\n",
    "\n",
    "    crit.zero_grad()\n",
    "    loss.backward()\n",
    "    crit.step()\n",
    "\n",
    "    history.append(loss.data.numpy())\n",
    "    if (i + 1) % 100 == 0:\n",
    "        \n",
    "        buffer = []\n",
    "        for j in range(10):\n",
    "            buffer.append(create_name(creator_cell, ' '))\n",
    "        \n",
    "        names_history.append(buffer)\n",
    "        \n",
    "        clear_output(True)\n",
    "        plt.plot(history, label = 'Loss')\n",
    "        plt.legend()\n",
    "        plt.show()"
   ]
  },
  {
   "cell_type": "code",
   "execution_count": 25,
   "metadata": {},
   "outputs": [],
   "source": [
    "def create_name(creator_cell, start = ' ', t = 1.0):\n",
    "    seq = torch.LongTensor([[sym2id[sym] for sym in start]])\n",
    "    state = creator_cell.init_state(batch_size = 1)\n",
    "    \n",
    "    for i in range(len(start) - 1):\n",
    "        state, _ = creator_cell(seq[:, i], state)\n",
    "    \n",
    "    for i in range(MAX_LEN - len(start)):\n",
    "        state, logp = creator_cell(seq[:, - 1], state)\n",
    "        p = func.softmax(logp / t, dim = -1).data.numpy()[0]\n",
    "        \n",
    "        next_vec = torch.LongTensor([[np.random.choice(len(symbols), p = p)]])\n",
    "        seq = torch.cat([seq, next_vec], dim = 1)\n",
    "        \n",
    "    return ''.join([symbols[ind] for ind in seq.data.numpy()[0]])"
   ]
  },
  {
   "cell_type": "code",
   "execution_count": 81,
   "metadata": {},
   "outputs": [
    {
     "name": "stdout",
     "output_type": "stream",
     "text": [
      " Kekanis        \n",
      " Kekpiny        \n",
      " Kekthou        \n",
      " Kekarina       \n",
      " Kekvareo       \n",
      " Kekerat        \n",
      " Kekosima       \n",
      " Keky           \n",
      " Kekaminn       \n",
      " Keksedo        \n",
      " Kekinre        \n",
      " Kekbi          \n",
      " Kekong         \n",
      " Kek            \n",
      " Kekqli         \n",
      " Keksa          \n",
      " Kekhas         \n",
      " Kekhzy         \n",
      " Keka           \n",
      " Kekgallo       \n"
     ]
    }
   ],
   "source": [
    "for i in range(20):\n",
    "    print(create_name(creator_cell, ' Kek'))"
   ]
  },
  {
   "cell_type": "code",
   "execution_count": 80,
   "metadata": {},
   "outputs": [
    {
     "name": "stdout",
     "output_type": "stream",
     "text": [
      "Step  0\n",
      "Step  1\n",
      " Tst            \n",
      " lh  a          \n",
      " JkPoc a        \n",
      " Si             \n",
      " Qeo   a        \n",
      " lmGoe      in  \n",
      " Yziyca         \n",
      " fhiR           \n",
      " uT   i  i      \n",
      " tq y       n   \n",
      "Step  2\n",
      " Ftrpar         \n",
      " Mdtdeu t    a  \n",
      " wmectriea      \n",
      " u seaed        \n",
      " thQn z         \n",
      " zgdnlno        \n",
      " BeDt         r \n",
      " oerueCi i      \n",
      " czoeLlgma      \n",
      " ts ier ia      \n",
      "Step  3\n",
      " uEkaoou        \n",
      " Jcela          \n",
      " Ltdnnnd        \n",
      " Aletoa         \n",
      " Oaiars o       \n",
      " mXoda          \n",
      " ioeddefcot     \n",
      " Lzrlco         \n",
      " Ynien          \n",
      " iii            \n",
      "Step  4\n",
      " Ikrvab         \n",
      " Gytlho         \n",
      " zzleba         \n",
      " Ropeinp        \n",
      " coindgag       \n",
      " Jifmrn         \n",
      " ediy           \n",
      " Byia           \n",
      " Bpaia          \n",
      " AQsasnla       \n",
      "Step  5\n",
      " Rhonona        \n",
      " Ayir           \n",
      " Erdsar         \n",
      " Berfslaba      \n",
      " Ceria          \n",
      " urromt  s      \n",
      " Jiama          \n",
      " qrsi           \n",
      " Bolioyez       \n",
      " Eenesio        \n",
      "Step  6\n",
      " Nlseeeiin      \n",
      " Gorittid       \n",
      " Srjahyia       \n",
      " Xriena         \n",
      " Hlin           \n",
      " Ixcegeno       \n",
      " Sorei          \n",
      " Ryhan          \n",
      " Lms y ed       \n",
      " Dazma          \n",
      "Step  7\n",
      " Rsorhuns       \n",
      " Jiivjcaa       \n",
      " Kregle         \n",
      " Yaxilcs        \n",
      " Eltia          \n",
      " Foriota        \n",
      " Encie          \n",
      " Lezaulina      \n",
      " Seblam         \n",
      " Nanlins        \n",
      "Step  8\n",
      " Fbueior        \n",
      " Arvlolspa      \n",
      " Allthye        \n",
      " Eicorliao      \n",
      " liema          \n",
      " Iuconarto      \n",
      " Konfah         \n",
      " Cannela        \n",
      " Selbrajane     \n",
      " Soudelineto    \n",
      "Step  9\n",
      " Alacolita      \n",
      " Rytdan         \n",
      " Ragtividna     \n",
      " Nhaarrova      \n",
      " Menlail        \n",
      " NJlela         \n",
      " Bo             \n",
      " Darfre         \n",
      " Aane           \n",
      " Kiu            \n",
      "Step  10\n",
      " Gevicsinn      \n",
      " Parisi         \n",
      " Darinca        \n",
      " Riada          \n",
      " Euda           \n",
      " Ca             \n",
      " Shina          \n",
      " Heharren       \n",
      " Morhan         \n",
      " Nakna          \n",
      "Step  11\n",
      " Eitsio         \n",
      " Igvio          \n",
      " Ausiua         \n",
      " Argela         \n",
      " Brymdancia     \n",
      " Mhenhicen      \n",
      " Nomisea        \n",
      " Myanu          \n",
      " Wajyy          \n",
      " Kirynto        \n",
      "Step  12\n",
      " Modilz         \n",
      " Yorig          \n",
      " Weheaba        \n",
      " Alda           \n",
      " Sesbuy         \n",
      " Elasiri        \n",
      " Vnteliad       \n",
      " Mirinak        \n",
      " Han            \n",
      " Shacjoy        \n",
      "Step  13\n",
      " Hadan          \n",
      " Mohqninda      \n",
      " Gryadon        \n",
      " Gasriac        \n",
      " Ishlel         \n",
      " Serieq         \n",
      " Iudalna        \n",
      " Vionyna        \n",
      " Hukala         \n",
      " Pieltiza       \n",
      "Step  14\n",
      " Adual          \n",
      " Evesa          \n",
      " Enderogh       \n",
      " Eleu           \n",
      " Ande           \n",
      " Parrda         \n",
      " Myla           \n",
      " Databa         \n",
      " Fadhentker     \n",
      " Cloviatia      \n",
      "Step  15\n",
      " Deonsaba       \n",
      " Walan          \n",
      " Aleliliy       \n",
      " Yielia         \n",
      " Laomiia        \n",
      " Hadrareng      \n",
      " Luiahi         \n",
      " Erraty         \n",
      " Apgija         \n",
      " Satisa         \n"
     ]
    }
   ],
   "source": [
    "for i in range(len(names_history)):\n",
    "    print(\"Step \", i)\n",
    "    for name in names_history[i]:\n",
    "        print(name)"
   ]
  }
 ],
 "metadata": {
  "kernelspec": {
   "display_name": "Python 3",
   "language": "python",
   "name": "python3"
  },
  "language_info": {
   "codemirror_mode": {
    "name": "ipython",
    "version": 3
   },
   "file_extension": ".py",
   "mimetype": "text/x-python",
   "name": "python",
   "nbconvert_exporter": "python",
   "pygments_lexer": "ipython3",
   "version": "3.7.3"
  }
 },
 "nbformat": 4,
 "nbformat_minor": 2
}
